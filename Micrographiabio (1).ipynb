{
 "cells": [
  {
   "cell_type": "code",
   "execution_count": 1,
   "id": "b263e611-1b5a-49ab-b9a1-04aeae8bffe1",
   "metadata": {},
   "outputs": [
    {
     "name": "stdout",
     "output_type": "stream",
     "text": [
      "Requirement already satisfied: tweepy in c:\\users\\eoin\\anaconda3\\lib\\site-packages (4.14.0)\n",
      "Requirement already satisfied: oauthlib<4,>=3.2.0 in c:\\users\\eoin\\anaconda3\\lib\\site-packages (from tweepy) (3.2.2)\n",
      "Requirement already satisfied: requests<3,>=2.27.0 in c:\\users\\eoin\\anaconda3\\lib\\site-packages (from tweepy) (2.31.0)\n",
      "Requirement already satisfied: requests-oauthlib<2,>=1.2.0 in c:\\users\\eoin\\anaconda3\\lib\\site-packages (from tweepy) (1.3.1)\n",
      "Requirement already satisfied: charset-normalizer<4,>=2 in c:\\users\\eoin\\anaconda3\\lib\\site-packages (from requests<3,>=2.27.0->tweepy) (2.0.4)\n",
      "Requirement already satisfied: idna<4,>=2.5 in c:\\users\\eoin\\anaconda3\\lib\\site-packages (from requests<3,>=2.27.0->tweepy) (3.4)\n",
      "Requirement already satisfied: urllib3<3,>=1.21.1 in c:\\users\\eoin\\anaconda3\\lib\\site-packages (from requests<3,>=2.27.0->tweepy) (2.0.7)\n",
      "Requirement already satisfied: certifi>=2017.4.17 in c:\\users\\eoin\\anaconda3\\lib\\site-packages (from requests<3,>=2.27.0->tweepy) (2024.2.2)\n",
      "Note: you may need to restart the kernel to use updated packages.\n"
     ]
    }
   ],
   "source": [
    "pip install tweepy"
   ]
  },
  {
   "cell_type": "code",
   "execution_count": 2,
   "id": "06b78f21-87f9-4d6d-81a9-63cfefc65b0d",
   "metadata": {},
   "outputs": [
    {
     "name": "stdout",
     "output_type": "stream",
     "text": [
      "Error fetching tweets: 403 Forbidden\n",
      "When authenticating requests to the Twitter API v2 endpoints, you must use keys and tokens from a Twitter developer App that is attached to a Project. You can create a project via the developer portal.\n"
     ]
    }
   ],
   "source": [
    "# Installation of tweepy and textblob may be required\n",
    "# Tweepy is used in Python specifically to access the Twitter API\n",
    "# TextBlob is the AI used to analyze the sentiment of the messages \n",
    "# Other AIs could be used to assess the meaning of posts like VADER\n",
    "import tweepy\n",
    "from textblob import TextBlob\n",
    "import matplotlib.pyplot as plt\n",
    "\n",
    "# Input your Twitter developer credentials and ensure you have a project they are connected to\n",
    "Personalbearertoken = 'in here!'\n",
    "\n",
    "Owner = tweepy.Client(bearer_token=Personalbearertoken)\n",
    "\n",
    "# Change the number from 10 to the maximum you want this. Be careful not to use up all requests at once\n",
    "def collecttweets(query=\"Micrographia Bio\", maximumnumberviewed=10):\n",
    "    try:\n",
    "        # You can input whatever tweet fields you like to get a sense of views, retweets, thread name, user ID, etc \n",
    "        tweets = Owner.search_recent_tweets(query=query, max_results=maximumnumberviewed, tweet_fields=['text', 'created_at', 'like_count', 'author_id'])\n",
    "        return tweets.data\n",
    "    except tweepy.TweepyException as e:\n",
    "        print(f\"Error fetching tweets: {e}\")\n",
    "        return None\n",
    "\n",
    "# Now TextBlob can analyze the sentiment of stored 'tweets'\n",
    "def analyze_sentiment(tweets):\n",
    "    positive = 0\n",
    "    negative = 0\n",
    "    #create this empty list and fill it later\n",
    "    tweets_texts = []\n",
    "    \n",
    "    for tweet in tweets:\n",
    "        text = tweet.text\n",
    "        analysis = TextBlob(text)\n",
    "        \n",
    "        if analysis.sentiment.polarity > 0:\n",
    "            positive += 1\n",
    "        elif analysis.sentiment.polarity < 0:\n",
    "            negative += 1\n",
    "        \n",
    "        tweets_texts.append(text)\n",
    "    \n",
    "    return positive, negative, tweets_texts\n",
    "collected_tweets = collecttweets()\n",
    "\n",
    "# First check if there are any tweets collected\n",
    "if collected_tweets:  \n",
    "    positive, negative, tweets_texts = analyze_sentiment(collected_tweets)\n",
    "\n",
    "    # Create a bar chart showing the number of positive and negative tweets\n",
    "    #later this information can be trended over time using other functions in matplot.lib\n",
    "    plt.bar(['Positive tweets', 'Negative tweets'], [positive, negative])\n",
    "    plt.title('Twitter Sentiment for Micrographia Bio')\n",
    "    plt.ylabel('Number of Tweets')\n",
    "    plt.show()\n"
   ]
  },
  {
   "cell_type": "code",
   "execution_count": null,
   "id": "7f21e5ee-736b-4df9-8c4a-0e5940f56f28",
   "metadata": {},
   "outputs": [],
   "source": []
  }
 ],
 "metadata": {
  "kernelspec": {
   "display_name": "Python 3 (ipykernel)",
   "language": "python",
   "name": "python3"
  },
  "language_info": {
   "codemirror_mode": {
    "name": "ipython",
    "version": 3
   },
   "file_extension": ".py",
   "mimetype": "text/x-python",
   "name": "python",
   "nbconvert_exporter": "python",
   "pygments_lexer": "ipython3",
   "version": "3.11.7"
  }
 },
 "nbformat": 4,
 "nbformat_minor": 5
}
